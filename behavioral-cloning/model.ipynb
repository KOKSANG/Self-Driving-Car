{
  "nbformat": 4,
  "nbformat_minor": 0,
  "metadata": {
    "colab": {
      "name": "Behavioural_Cloning.ipynb",
      "version": "0.3.2",
      "provenance": [],
      "collapsed_sections": []
    },
    "kernelspec": {
      "name": "python3",
      "display_name": "Python 3"
    },
    "accelerator": "GPU"
  },
  "cells": [
    {
      "metadata": {
        "id": "rvZsAerqrqNI",
        "colab_type": "code",
        "outputId": "2d4ce296-3832-4388-873b-aca50b9b33a0",
        "colab": {
          "base_uri": "https://localhost:8080/",
          "height": 34
        }
      },
      "cell_type": "code",
      "source": [
        "import os\n",
        "import glob\n",
        "import zipfile\n",
        "import pathlib\n",
        "import cv2\n",
        "import math\n",
        "import random\n",
        "import shutil\n",
        "import skimage as sk\n",
        "import pandas as pd\n",
        "import numpy as np\n",
        "import tensorflow as tf\n",
        "import matplotlib.pyplot as plt\n",
        "import matplotlib.image as mpimg\n",
        "\n",
        "from sklearn.model_selection import  train_test_split\n",
        "from sklearn.preprocessing import MinMaxScaler\n",
        "from sklearn.metrics import mean_squared_error\n",
        "from sklearn.utils import shuffle\n",
        "\n",
        "from keras.models import Sequential\n",
        "from keras.activations import softmax, relu\n",
        "from keras.layers import Activation, Dense, Dropout, Flatten, Lambda, Cropping2D, LSTM\n",
        "from keras.layers import Conv2D, MaxPooling2D, BatchNormalization\n",
        "from keras.optimizers import Adam\n",
        "from keras.regularizers import l2\n",
        "from keras.callbacks import EarlyStopping, ModelCheckpoint"
      ],
      "execution_count": 0,
      "outputs": [
        {
          "output_type": "stream",
          "text": [
            "Using TensorFlow backend.\n"
          ],
          "name": "stderr"
        }
      ]
    },
    {
      "metadata": {
        "id": "M5n4XzENc6X4",
        "colab_type": "text"
      },
      "cell_type": "markdown",
      "source": [
        "## Ran the new few blocks for my colab configuration, can be ignored."
      ]
    },
    {
      "metadata": {
        "id": "WSO1fmiedMyi",
        "colab_type": "code",
        "colab": {
          "base_uri": "https://localhost:8080/",
          "height": 34
        },
        "outputId": "01b5f6c4-81b0-4642-fb8e-00c1d92f0b43"
      },
      "cell_type": "code",
      "source": [
        "from google.colab import drive\n",
        "\n",
        "drive.mount('/content/gdrive')"
      ],
      "execution_count": 36,
      "outputs": [
        {
          "output_type": "stream",
          "text": [
            "Drive already mounted at /content/gdrive; to attempt to forcibly remount, call drive.mount(\"/content/gdrive\", force_remount=True).\n"
          ],
          "name": "stdout"
        }
      ]
    },
    {
      "metadata": {
        "id": "cqxDKnPZdOO2",
        "colab_type": "code",
        "colab": {
          "base_uri": "https://localhost:8080/",
          "height": 204
        },
        "outputId": "42b48696-4d22-4729-af25-66d1d978e50b"
      },
      "cell_type": "code",
      "source": [
        "!wget https://d17h27t6h515a5.cloudfront.net/topher/2016/December/584f6edd_data/data.zip\n"
      ],
      "execution_count": 37,
      "outputs": [
        {
          "output_type": "stream",
          "text": [
            "--2019-04-14 10:46:55--  https://d17h27t6h515a5.cloudfront.net/topher/2016/December/584f6edd_data/data.zip\n",
            "Resolving d17h27t6h515a5.cloudfront.net (d17h27t6h515a5.cloudfront.net)... 52.85.159.80, 52.85.159.38, 52.85.159.165, ...\n",
            "Connecting to d17h27t6h515a5.cloudfront.net (d17h27t6h515a5.cloudfront.net)|52.85.159.80|:443... connected.\n",
            "HTTP request sent, awaiting response... 200 OK\n",
            "Length: 333137665 (318M) [application/zip]\n",
            "Saving to: ‘data.zip’\n",
            "\n",
            "data.zip            100%[===================>] 317.70M  42.5MB/s    in 7.2s    \n",
            "\n",
            "2019-04-14 10:47:03 (43.9 MB/s) - ‘data.zip’ saved [333137665/333137665]\n",
            "\n"
          ],
          "name": "stdout"
        }
      ]
    },
    {
      "metadata": {
        "id": "sVed-q9l-43W",
        "colab_type": "code",
        "outputId": "a43bc4af-e790-47eb-cf18-012aa9e6d555",
        "colab": {
          "base_uri": "https://localhost:8080/",
          "height": 34
        }
      },
      "cell_type": "code",
      "source": [
        "import shutil\n",
        "\n",
        "shutil.move(\"/content/data.zip\", \"/content/gdrive/My Drive/udacity-behavioural-cloning/\")"
      ],
      "execution_count": 0,
      "outputs": [
        {
          "output_type": "execute_result",
          "data": {
            "text/plain": [
              "'/content/gdrive/My Drive/udacity-behavioural-cloning/data.zip'"
            ]
          },
          "metadata": {
            "tags": []
          },
          "execution_count": 7
        }
      ]
    },
    {
      "metadata": {
        "id": "I82xkoVb-lvP",
        "colab_type": "code",
        "colab": {}
      },
      "cell_type": "code",
      "source": [
        "os.chdir('/content/gdrive/My Drive/udacity-behavioural-cloning/')"
      ],
      "execution_count": 0,
      "outputs": []
    },
    {
      "metadata": {
        "id": "Rpcw3d1pAECX",
        "colab_type": "code",
        "colab": {}
      },
      "cell_type": "code",
      "source": [
        "with zipfile.ZipFile('data.zip') as f:\n",
        "  f.extractall()"
      ],
      "execution_count": 0,
      "outputs": []
    },
    {
      "metadata": {
        "id": "06yk4F5L_vL3",
        "colab_type": "code",
        "colab": {}
      },
      "cell_type": "code",
      "source": [
        "os.chdir('/content/gdrive/My Drive/udacity-behavioural-cloning/data/')"
      ],
      "execution_count": 0,
      "outputs": []
    },
    {
      "metadata": {
        "id": "hoVVYxLLdURX",
        "colab_type": "text"
      },
      "cell_type": "markdown",
      "source": [
        "## Training code starts here"
      ]
    },
    {
      "metadata": {
        "id": "-X21_NaMdTsR",
        "colab_type": "code",
        "colab": {}
      },
      "cell_type": "code",
      "source": [
        "df = pd.read_csv('driving_log.csv')"
      ],
      "execution_count": 0,
      "outputs": []
    },
    {
      "metadata": {
        "id": "EvT4n8GQYeak",
        "colab_type": "code",
        "colab": {
          "base_uri": "https://localhost:8080/",
          "height": 241
        },
        "outputId": "a74f4a80-04f7-4fc9-8df4-b30035da3d46"
      },
      "cell_type": "code",
      "source": [
        "# Visualizing original distribution\n",
        "\n",
        "plt.figure(figsize=(15, 3))\n",
        "hist, bins = np.histogram(df.steering.values, bins=50)\n",
        "plt.hist(df.steering.values, bins=bins)\n",
        "plt.title('Steering Distribution Plot')\n",
        "plt.xlabel('Steering')\n",
        "plt.ylabel('Count')\n",
        "plt.show()"
      ],
      "execution_count": 42,
      "outputs": [
        {
          "output_type": "display_data",
          "data": {
            "image/png": "[encoded data removed]",
            "text/plain": [
              "<Figure size 1080x216 with 1 Axes>"
            ]
          },
          "metadata": {
            "tags": []
          }
        }
      ]
    },
    {
      "metadata": {
        "id": "qGmP4vfnt5_R",
        "colab_type": "code",
        "colab": {}
      },
      "cell_type": "code",
      "source": [
        "# create grayscale image\n",
        "def grayscale(img):\n",
        "  return cv2.cvtColor(img, cv2.COLOR_RGB2GRAY)\n",
        "# normalize image to zero mean\n",
        "def normalize(img):\n",
        "  mean = np.mean(img)\n",
        "  std = np.std(img)\n",
        "  return (img-mean)/std\n",
        "# preprocess with grayscale and normalization\n",
        "def preprocess(img):\n",
        "  return normalize(grayscale(img))\n",
        "# augment image, left right flip for now\n",
        "def augment(image, randn):\n",
        "  return np.flip(image, axis=randn%2).astype(np.uint8)\n",
        "# yeo-johnson bias\n",
        "def yeo_johnson_bias(steering):\n",
        "  if steering >= 0:\n",
        "      return np.log(steering + 1)\n",
        "  elif steering < 0:\n",
        "      return -np.log(-steering + 1)"
      ],
      "execution_count": 0,
      "outputs": []
    },
    {
      "metadata": {
        "id": "40ABM1q6kzKD",
        "colab_type": "code",
        "outputId": "49abb1a3-38c5-4be0-f678-504e1cb7625e",
        "colab": {
          "base_uri": "https://localhost:8080/",
          "height": 204
        }
      },
      "cell_type": "code",
      "source": [
        "# To separate center, left and right\n",
        "df_center = pd.concat([df.center, df.steering], axis=1).rename(index=str, columns={'center': 'img'})\n",
        "df_left = pd.concat([df.left, df.steering], axis=1).rename(index=str, columns={'left': 'img'})\n",
        "df_right = pd.concat([df.right, df.steering], axis=1).rename(index=str, columns={'right': 'img'})\n",
        "\n",
        "df_center.head()"
      ],
      "execution_count": 0,
      "outputs": [
        {
          "output_type": "execute_result",
          "data": {
            "text/html": [
              "<div>\n",
              "<style scoped>\n",
              "    .dataframe tbody tr th:only-of-type {\n",
              "        vertical-align: middle;\n",
              "    }\n",
              "\n",
              "    .dataframe tbody tr th {\n",
              "        vertical-align: top;\n",
              "    }\n",
              "\n",
              "    .dataframe thead th {\n",
              "        text-align: right;\n",
              "    }\n",
              "</style>\n",
              "<table border=\"1\" class=\"dataframe\">\n",
              "  <thead>\n",
              "    <tr style=\"text-align: right;\">\n",
              "      <th></th>\n",
              "      <th>img</th>\n",
              "      <th>steering</th>\n",
              "    </tr>\n",
              "  </thead>\n",
              "  <tbody>\n",
              "    <tr>\n",
              "      <th>0</th>\n",
              "      <td>IMG/center_2016_12_01_13_30_48_287.jpg</td>\n",
              "      <td>0.0</td>\n",
              "    </tr>\n",
              "    <tr>\n",
              "      <th>1</th>\n",
              "      <td>IMG/center_2016_12_01_13_30_48_404.jpg</td>\n",
              "      <td>0.0</td>\n",
              "    </tr>\n",
              "    <tr>\n",
              "      <th>2</th>\n",
              "      <td>IMG/center_2016_12_01_13_31_12_937.jpg</td>\n",
              "      <td>0.0</td>\n",
              "    </tr>\n",
              "    <tr>\n",
              "      <th>3</th>\n",
              "      <td>IMG/center_2016_12_01_13_31_13_037.jpg</td>\n",
              "      <td>0.0</td>\n",
              "    </tr>\n",
              "    <tr>\n",
              "      <th>4</th>\n",
              "      <td>IMG/center_2016_12_01_13_31_13_177.jpg</td>\n",
              "      <td>0.0</td>\n",
              "    </tr>\n",
              "  </tbody>\n",
              "</table>\n",
              "</div>"
            ],
            "text/plain": [
              "                                      img  steering\n",
              "0  IMG/center_2016_12_01_13_30_48_287.jpg       0.0\n",
              "1  IMG/center_2016_12_01_13_30_48_404.jpg       0.0\n",
              "2  IMG/center_2016_12_01_13_31_12_937.jpg       0.0\n",
              "3  IMG/center_2016_12_01_13_31_13_037.jpg       0.0\n",
              "4  IMG/center_2016_12_01_13_31_13_177.jpg       0.0"
            ]
          },
          "metadata": {
            "tags": []
          },
          "execution_count": 16
        }
      ]
    },
    {
      "metadata": {
        "id": "C4VPhc1vscOE",
        "colab_type": "code",
        "colab": {}
      },
      "cell_type": "code",
      "source": [
        "# Adjusting the steering value 0 for left and right\n",
        "\n",
        "for k, v in df_left.iterrows():\n",
        "  if v.steering == 0:\n",
        "    df_left.loc[k, 'steering'] = df_left.loc[k, 'steering'] + random.uniform(0.2, 0.5)\n",
        "  \n",
        "for k, v in df_right.iterrows():\n",
        "  if v.steering == 0:\n",
        "    df_right.loc[k, 'steering'] = df_right.loc[k, 'steering'] + random.uniform(-0.2, -0.5)"
      ],
      "execution_count": 0,
      "outputs": []
    },
    {
      "metadata": {
        "id": "WgNdHt8zs-d4",
        "colab_type": "code",
        "colab": {}
      },
      "cell_type": "code",
      "source": [
        "new_df = pd.concat([df_center, df_left, df_right], axis=0, ignore_index=True, sort=False)"
      ],
      "execution_count": 0,
      "outputs": []
    },
    {
      "metadata": {
        "id": "Q9d8u7EktFth",
        "colab_type": "code",
        "outputId": "7fe33491-af8d-4c31-d8f5-51625c3337c4",
        "colab": {
          "base_uri": "https://localhost:8080/",
          "height": 204
        }
      },
      "cell_type": "code",
      "source": [
        "new_df.tail()"
      ],
      "execution_count": 0,
      "outputs": [
        {
          "output_type": "execute_result",
          "data": {
            "text/html": [
              "<div>\n",
              "<style scoped>\n",
              "    .dataframe tbody tr th:only-of-type {\n",
              "        vertical-align: middle;\n",
              "    }\n",
              "\n",
              "    .dataframe tbody tr th {\n",
              "        vertical-align: top;\n",
              "    }\n",
              "\n",
              "    .dataframe thead th {\n",
              "        text-align: right;\n",
              "    }\n",
              "</style>\n",
              "<table border=\"1\" class=\"dataframe\">\n",
              "  <thead>\n",
              "    <tr style=\"text-align: right;\">\n",
              "      <th></th>\n",
              "      <th>img</th>\n",
              "      <th>steering</th>\n",
              "    </tr>\n",
              "  </thead>\n",
              "  <tbody>\n",
              "    <tr>\n",
              "      <th>24103</th>\n",
              "      <td>IMG/right_2016_12_01_13_46_38_745.jpg</td>\n",
              "      <td>-0.499654</td>\n",
              "    </tr>\n",
              "    <tr>\n",
              "      <th>24104</th>\n",
              "      <td>IMG/right_2016_12_01_13_46_38_802.jpg</td>\n",
              "      <td>-0.236362</td>\n",
              "    </tr>\n",
              "    <tr>\n",
              "      <th>24105</th>\n",
              "      <td>IMG/right_2016_12_01_13_46_38_846.jpg</td>\n",
              "      <td>-0.291893</td>\n",
              "    </tr>\n",
              "    <tr>\n",
              "      <th>24106</th>\n",
              "      <td>IMG/right_2016_12_01_13_46_38_922.jpg</td>\n",
              "      <td>-0.356710</td>\n",
              "    </tr>\n",
              "    <tr>\n",
              "      <th>24107</th>\n",
              "      <td>IMG/right_2016_12_01_13_46_38_947.jpg</td>\n",
              "      <td>-0.226685</td>\n",
              "    </tr>\n",
              "  </tbody>\n",
              "</table>\n",
              "</div>"
            ],
            "text/plain": [
              "                                          img  steering\n",
              "24103   IMG/right_2016_12_01_13_46_38_745.jpg -0.499654\n",
              "24104   IMG/right_2016_12_01_13_46_38_802.jpg -0.236362\n",
              "24105   IMG/right_2016_12_01_13_46_38_846.jpg -0.291893\n",
              "24106   IMG/right_2016_12_01_13_46_38_922.jpg -0.356710\n",
              "24107   IMG/right_2016_12_01_13_46_38_947.jpg -0.226685"
            ]
          },
          "metadata": {
            "tags": []
          },
          "execution_count": 19
        }
      ]
    },
    {
      "metadata": {
        "id": "xoJ15cOVvw1K",
        "colab_type": "code",
        "colab": {}
      },
      "cell_type": "code",
      "source": [
        "new_df.to_csv('adjusted_log.csv', index=False, encoding='utf-8')"
      ],
      "execution_count": 0,
      "outputs": []
    },
    {
      "metadata": {
        "id": "XBv1gcQiXWL7",
        "colab_type": "code",
        "colab": {}
      },
      "cell_type": "code",
      "source": [
        "df = pd.read_csv('adjusted_log.csv')"
      ],
      "execution_count": 0,
      "outputs": []
    },
    {
      "metadata": {
        "id": "tDkCrz1wwq9c",
        "colab_type": "code",
        "outputId": "327b40d8-5b47-4801-c96f-3446bed27709",
        "colab": {
          "base_uri": "https://localhost:8080/",
          "height": 455
        }
      },
      "cell_type": "code",
      "source": [
        "# Visualizing adjusted distribution\n",
        "\n",
        "plt.figure(figsize=(15, 3))\n",
        "hist, bins = np.histogram(df.steering.values, bins=50)\n",
        "plt.hist(df.steering.values, bins=bins)\n",
        "plt.title('Steering Distribution Plot')\n",
        "plt.xlabel('Steering')\n",
        "plt.ylabel('Count')\n",
        "plt.show()\n",
        "\n",
        "df.plot(figsize=(15, 3))"
      ],
      "execution_count": 44,
      "outputs": [
        {
          "output_type": "display_data",
          "data": {
            "image/png": "[encoded data removed]",
            "text/plain": [
              "<Figure size 1080x216 with 1 Axes>"
            ]
          },
          "metadata": {
            "tags": []
          }
        },
        {
          "output_type": "execute_result",
          "data": {
            "text/plain": [
              "<matplotlib.axes._subplots.AxesSubplot at 0x7f5a694b5e10>"
            ]
          },
          "metadata": {
            "tags": []
          },
          "execution_count": 44
        },
        {
          "output_type": "display_data",
          "data": {
            "image/png": "[encoded data removed]",
            "text/plain": [
              "<Figure size 1080x216 with 1 Axes>"
            ]
          },
          "metadata": {
            "tags": []
          }
        }
      ]
    },
    {
      "metadata": {
        "id": "pxmPjhTYF0qG",
        "colab_type": "code",
        "outputId": "bfa9a9d3-5e69-4e34-9761-e6329c1ba318",
        "colab": {
          "base_uri": "https://localhost:8080/",
          "height": 34
        }
      },
      "cell_type": "code",
      "source": [
        "df.shape"
      ],
      "execution_count": 45,
      "outputs": [
        {
          "output_type": "execute_result",
          "data": {
            "text/plain": [
              "(24108, 2)"
            ]
          },
          "metadata": {
            "tags": []
          },
          "execution_count": 45
        }
      ]
    },
    {
      "metadata": {
        "id": "EZJmoH_5YtIr",
        "colab_type": "code",
        "colab": {}
      },
      "cell_type": "code",
      "source": [
        "# Grouping all images and steering together, to do a train test splitting\n",
        "\n",
        "images = df.img.tolist()\n",
        "steering = df.steering.tolist()\n",
        "\n",
        "img_list = []\n",
        "for img, angle in zip(images, steering):\n",
        "  row = [img, angle]\n",
        "  img_list.append(row)\n",
        "\n",
        "train_samples, validation_samples = train_test_split(img_list, test_size=0.2)"
      ],
      "execution_count": 0,
      "outputs": []
    },
    {
      "metadata": {
        "id": "d-l-dEwmmDoF",
        "colab_type": "code",
        "colab": {}
      },
      "cell_type": "code",
      "source": [
        "# Data generator\n",
        "\n",
        "def generator(samples, batch_size=32):\n",
        "    cwd = os.getcwd()\n",
        "    num_samples = len(samples)\n",
        "    while True: # Loop forever so the generator never terminates\n",
        "        shuffle(samples)\n",
        "        for offset in range(0, num_samples, batch_size):\n",
        "            batch_samples = samples[offset:offset+batch_size]\n",
        "\n",
        "            images = []\n",
        "            angles = []\n",
        "\n",
        "            for batch_sample in batch_samples:\n",
        "                name = os.path.join(cwd, batch_sample[0].strip())\n",
        "                try:\n",
        "                  # normalizing image\n",
        "                  image = normalize(mpimg.imread(name))\n",
        "                  # reshaping image into its rgb form\n",
        "                  image = np.reshape(image, (image.shape[0], image.shape[1], 3))\n",
        "                  steering = float(batch_sample[1])\n",
        "                  images.append(image)\n",
        "                  angles.append(steering)\n",
        "                # if image not found, skip the image\n",
        "                except FileNotFoundError as msg:\n",
        "                  print(msg)\n",
        "                  continue\n",
        "\n",
        "            # trim image to only see section with road|\n",
        "            X_train = np.array(images)\n",
        "            y_train = np.array(angles)\n",
        "            yield shuffle(X_train, y_train)"
      ],
      "execution_count": 0,
      "outputs": []
    },
    {
      "metadata": {
        "id": "gt8Qgz4YWxig",
        "colab_type": "code",
        "colab": {}
      },
      "cell_type": "code",
      "source": [
        "# Set our batch size\n",
        "batch_size = 32\n",
        "\n",
        "# compile and train the model using the generator function\n",
        "train_generator = generator(train_samples, batch_size=batch_size)\n",
        "validation_generator = generator(validation_samples, batch_size=batch_size)"
      ],
      "execution_count": 0,
      "outputs": []
    },
    {
      "metadata": {
        "id": "Bvpq93rn4mQn",
        "colab_type": "code",
        "colab": {}
      },
      "cell_type": "code",
      "source": [
        ""
      ],
      "execution_count": 0,
      "outputs": []
    },
    {
      "metadata": {
        "id": "_4s3QE-RXOcs",
        "colab_type": "code",
        "outputId": "6cb457b8-7c09-4252-9760-ca2268743edb",
        "colab": {
          "base_uri": "https://localhost:8080/",
          "height": 802
        }
      },
      "cell_type": "code",
      "source": [
        "### PART 3: TRAINING ###\n",
        "# Training Architecture: inspired by NVIDIA architecture #\n",
        "INPUT_SHAPE = (160, 320, 3)\n",
        "model = Sequential()\n",
        "model.add(Cropping2D(cropping=((70,25), (0, 0)), input_shape=INPUT_SHAPE))\n",
        "\n",
        "model.add(Conv2D(filters=24, kernel_size=5, strides=(2, 2), activation='relu'))\n",
        "model.add(BatchNormalization())\n",
        "model.add(Conv2D(filters=36, kernel_size=5, strides=(2, 2), activation='relu'))\n",
        "#model.add(BatchNormalization())\n",
        "model.add(Conv2D(filters=48, kernel_size=5, strides=(2, 2), activation='relu'))\n",
        "#model.add(BatchNormalization())\n",
        "model.add(Conv2D(filters=64, kernel_size=3, strides=(1, 1), activation='relu'))\n",
        "#model.add(BatchNormalization())\n",
        "model.add(Conv2D(filters=64, kernel_size=3, strides=(1, 1), activation='relu'))\n",
        "\n",
        "model.add(Flatten())\n",
        "model.add(Dense(1164, activation='relu'))\n",
        "model.add(Dropout(rate=0.5))\n",
        "model.add(Dense(100, activation='relu'))\n",
        "model.add(Dropout(rate=0.5))\n",
        "model.add(Dense(50, activation='relu'))\n",
        "model.add(Dropout(rate=0.5))\n",
        "model.add(Dense(10, activation='relu'))\n",
        "model.add(Dense(1))\n",
        "adam = Adam(lr = 0.0001)\n",
        "model.compile(optimizer= adam, loss='mse', metrics=['accuracy'])\n",
        "model.summary()\n"
      ],
      "execution_count": 0,
      "outputs": [
        {
          "output_type": "stream",
          "text": [
            "WARNING:tensorflow:From /usr/local/lib/python3.6/dist-packages/tensorflow/python/framework/op_def_library.py:263: colocate_with (from tensorflow.python.framework.ops) is deprecated and will be removed in a future version.\n",
            "Instructions for updating:\n",
            "Colocations handled automatically by placer.\n",
            "WARNING:tensorflow:From /usr/local/lib/python3.6/dist-packages/keras/backend/tensorflow_backend.py:3445: calling dropout (from tensorflow.python.ops.nn_ops) with keep_prob is deprecated and will be removed in a future version.\n",
            "Instructions for updating:\n",
            "Please use `rate` instead of `keep_prob`. Rate should be set to `rate = 1 - keep_prob`.\n",
            "_________________________________________________________________\n",
            "Layer (type)                 Output Shape              Param #   \n",
            "=================================================================\n",
            "cropping2d_1 (Cropping2D)    (None, 65, 320, 3)        0         \n",
            "_________________________________________________________________\n",
            "conv2d_1 (Conv2D)            (None, 31, 158, 24)       1824      \n",
            "_________________________________________________________________\n",
            "batch_normalization_1 (Batch (None, 31, 158, 24)       96        \n",
            "_________________________________________________________________\n",
            "conv2d_2 (Conv2D)            (None, 14, 77, 36)        21636     \n",
            "_________________________________________________________________\n",
            "conv2d_3 (Conv2D)            (None, 5, 37, 48)         43248     \n",
            "_________________________________________________________________\n",
            "conv2d_4 (Conv2D)            (None, 3, 35, 64)         27712     \n",
            "_________________________________________________________________\n",
            "conv2d_5 (Conv2D)            (None, 1, 33, 64)         36928     \n",
            "_________________________________________________________________\n",
            "flatten_1 (Flatten)          (None, 2112)              0         \n",
            "_________________________________________________________________\n",
            "dense_1 (Dense)              (None, 1164)              2459532   \n",
            "_________________________________________________________________\n",
            "dropout_1 (Dropout)          (None, 1164)              0         \n",
            "_________________________________________________________________\n",
            "dense_2 (Dense)              (None, 100)               116500    \n",
            "_________________________________________________________________\n",
            "dropout_2 (Dropout)          (None, 100)               0         \n",
            "_________________________________________________________________\n",
            "dense_3 (Dense)              (None, 50)                5050      \n",
            "_________________________________________________________________\n",
            "dropout_3 (Dropout)          (None, 50)                0         \n",
            "_________________________________________________________________\n",
            "dense_4 (Dense)              (None, 10)                510       \n",
            "_________________________________________________________________\n",
            "dense_5 (Dense)              (None, 1)                 11        \n",
            "=================================================================\n",
            "Total params: 2,713,047\n",
            "Trainable params: 2,712,999\n",
            "Non-trainable params: 48\n",
            "_________________________________________________________________\n"
          ],
          "name": "stdout"
        }
      ]
    },
    {
      "metadata": {
        "id": "yqa-bOl1YVZq",
        "colab_type": "code",
        "outputId": "8a82c467-9988-4977-e377-fb6097fa2528",
        "colab": {
          "base_uri": "https://localhost:8080/",
          "height": 615
        }
      },
      "cell_type": "code",
      "source": [
        "history = model.fit_generator(generator=train_generator, steps_per_epoch=math.ceil(len(train_samples)/ batch_size), \\\n",
        "                    epochs=15, verbose=1, validation_data=validation_generator, \\\n",
        "                    validation_steps=math.ceil(len(validation_samples)/ batch_size), use_multiprocessing=False)\n",
        "\n",
        "print('Done Training')"
      ],
      "execution_count": 0,
      "outputs": [
        {
          "output_type": "stream",
          "text": [
            "WARNING:tensorflow:From /usr/local/lib/python3.6/dist-packages/tensorflow/python/ops/math_ops.py:3066: to_int32 (from tensorflow.python.ops.math_ops) is deprecated and will be removed in a future version.\n",
            "Instructions for updating:\n",
            "Use tf.cast instead.\n",
            "Epoch 1/15\n",
            "603/603 [==============================] - 197s 326ms/step - loss: 0.0531 - acc: 0.1800 - val_loss: 0.0418 - val_acc: 0.1839\n",
            "Epoch 2/15\n",
            "603/603 [==============================] - 193s 320ms/step - loss: 0.0435 - acc: 0.1801 - val_loss: 0.0393 - val_acc: 0.1839\n",
            "Epoch 3/15\n",
            "603/603 [==============================] - 194s 321ms/step - loss: 0.0407 - acc: 0.1801 - val_loss: 0.0380 - val_acc: 0.1839\n",
            "Epoch 4/15\n",
            "603/603 [==============================] - 194s 321ms/step - loss: 0.0381 - acc: 0.1801 - val_loss: 0.0363 - val_acc: 0.1839\n",
            "Epoch 5/15\n",
            "603/603 [==============================] - 193s 320ms/step - loss: 0.0370 - acc: 0.1801 - val_loss: 0.0369 - val_acc: 0.1839\n",
            "Epoch 6/15\n",
            "603/603 [==============================] - 193s 319ms/step - loss: 0.0349 - acc: 0.1801 - val_loss: 0.0355 - val_acc: 0.1839\n",
            "Epoch 7/15\n",
            "603/603 [==============================] - 193s 320ms/step - loss: 0.0331 - acc: 0.1802 - val_loss: 0.0353 - val_acc: 0.1839\n",
            "Epoch 8/15\n",
            "603/603 [==============================] - 191s 318ms/step - loss: 0.0306 - acc: 0.1801 - val_loss: 0.0352 - val_acc: 0.1839\n",
            "Epoch 9/15\n",
            "603/603 [==============================] - 191s 317ms/step - loss: 0.0279 - acc: 0.1802 - val_loss: 0.0352 - val_acc: 0.1839\n",
            "Epoch 10/15\n",
            "603/603 [==============================] - 191s 317ms/step - loss: 0.0254 - acc: 0.1802 - val_loss: 0.0358 - val_acc: 0.1839\n",
            "Epoch 11/15\n",
            "603/603 [==============================] - 192s 318ms/step - loss: 0.0228 - acc: 0.1802 - val_loss: 0.0356 - val_acc: 0.1839\n",
            "Epoch 12/15\n",
            "603/603 [==============================] - 191s 317ms/step - loss: 0.0204 - acc: 0.1803 - val_loss: 0.0357 - val_acc: 0.1839\n",
            "Epoch 13/15\n",
            "603/603 [==============================] - 190s 315ms/step - loss: 0.0179 - acc: 0.1803 - val_loss: 0.0364 - val_acc: 0.1839\n",
            "Epoch 14/15\n",
            "603/603 [==============================] - 189s 314ms/step - loss: 0.0158 - acc: 0.1804 - val_loss: 0.0374 - val_acc: 0.1839\n",
            "Epoch 15/15\n",
            "603/603 [==============================] - 189s 314ms/step - loss: 0.0141 - acc: 0.1804 - val_loss: 0.0374 - val_acc: 0.1839\n",
            "Done Training\n"
          ],
          "name": "stdout"
        }
      ]
    },
    {
      "metadata": {
        "id": "TofDjzOdYXnJ",
        "colab_type": "code",
        "outputId": "7457e3ae-ab98-4681-84e4-2cf20c2007ca",
        "colab": {
          "base_uri": "https://localhost:8080/",
          "height": 34
        }
      },
      "cell_type": "code",
      "source": [
        "###Saving Model and Weights###\n",
        "model_json = model.to_json()\n",
        "with open(\"model5.json\", \"w\") as json_file:\n",
        "  json_file.write(model_json)\n",
        "model.save('model5.h5')\n",
        "model.save_weights(\"model_weights5.h5\")\n",
        "print(\"Saved model to disk\")"
      ],
      "execution_count": 0,
      "outputs": [
        {
          "output_type": "stream",
          "text": [
            "Saved model to disk\n"
          ],
          "name": "stdout"
        }
      ]
    },
    {
      "metadata": {
        "id": "L6iQJFVDLB2f",
        "colab_type": "code",
        "outputId": "e2a4fcac-799a-4fcd-9068-a1dd2a413d07",
        "colab": {
          "base_uri": "https://localhost:8080/",
          "height": 258
        }
      },
      "cell_type": "code",
      "source": [
        "### print the keys contained in the history object\n",
        "print(history.history.keys())\n",
        "\n",
        "### plot the training and validation loss for each epoch\n",
        "plt.figure(figsize=(15, 3))\n",
        "plt.plot(history.history['loss'])\n",
        "plt.plot(history.history['val_loss'])\n",
        "plt.title('model mean squared error loss')\n",
        "plt.ylabel('mean squared error loss')\n",
        "plt.xlabel('epoch')\n",
        "plt.legend(['training set', 'validation set'], loc='upper right')\n",
        "plt.show()"
      ],
      "execution_count": 31,
      "outputs": [
        {
          "output_type": "stream",
          "text": [
            "dict_keys(['val_loss', 'val_acc', 'loss', 'acc'])\n"
          ],
          "name": "stdout"
        },
        {
          "output_type": "display_data",
          "data": {
            "image/png": "[encoded data removed]",
            "text/plain": [
              "<Figure size 1080x216 with 1 Axes>"
            ]
          },
          "metadata": {
            "tags": []
          }
        }
      ]
    },
    {
      "metadata": {
        "id": "vPJGnv4tgXGx",
        "colab_type": "code",
        "colab": {}
      },
      "cell_type": "code",
      "source": [
        ""
      ],
      "execution_count": 0,
      "outputs": []
    }
  ]
}